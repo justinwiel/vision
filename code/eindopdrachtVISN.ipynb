{
 "cells": [
  {
   "cell_type": "markdown",
   "metadata": {},
   "source": [
    "<center><bold>Eindopdracht voor computer vision, binaire classificatie van hersenscans</bold></center>"
   ]
  },
  {
   "cell_type": "code",
   "execution_count": 3,
   "metadata": {},
   "outputs": [
    {
     "ename": "ValueError",
     "evalue": "If `subset` is set, `validation_split` must be set, and inversely.",
     "output_type": "error",
     "traceback": [
      "\u001b[1;31m---------------------------------------------------------------------------\u001b[0m",
      "\u001b[1;31mValueError\u001b[0m                                Traceback (most recent call last)",
      "\u001b[1;32mc:\\Users\\Justi\\OneDrive\\Documenten\\GitHub\\vision\\code\\eindopdrachtVISN.ipynb Cell 2'\u001b[0m in \u001b[0;36m<module>\u001b[1;34m\u001b[0m\n\u001b[0;32m      <a href='vscode-notebook-cell:/c%3A/Users/Justi/OneDrive/Documenten/GitHub/vision/code/eindopdrachtVISN.ipynb#ch0000001?line=4'>5</a>\u001b[0m \u001b[39mimport\u001b[39;00m \u001b[39mtensorflow\u001b[39;00m \u001b[39mas\u001b[39;00m \u001b[39mtf\u001b[39;00m\n\u001b[0;32m      <a href='vscode-notebook-cell:/c%3A/Users/Justi/OneDrive/Documenten/GitHub/vision/code/eindopdrachtVISN.ipynb#ch0000001?line=6'>7</a>\u001b[0m data_dir \u001b[39m=\u001b[39m \u001b[39m\"\u001b[39m\u001b[39m..\u001b[39m\u001b[39m\\\\\u001b[39;00m\u001b[39mdata\u001b[39m\u001b[39m\"\u001b[39m\n\u001b[1;32m----> <a href='vscode-notebook-cell:/c%3A/Users/Justi/OneDrive/Documenten/GitHub/vision/code/eindopdrachtVISN.ipynb#ch0000001?line=7'>8</a>\u001b[0m train_ds \u001b[39m=\u001b[39m tf\u001b[39m.\u001b[39;49mkeras\u001b[39m.\u001b[39;49mutils\u001b[39m.\u001b[39;49mimage_dataset_from_directory(\n\u001b[0;32m      <a href='vscode-notebook-cell:/c%3A/Users/Justi/OneDrive/Documenten/GitHub/vision/code/eindopdrachtVISN.ipynb#ch0000001?line=8'>9</a>\u001b[0m   data_dir,\n\u001b[0;32m     <a href='vscode-notebook-cell:/c%3A/Users/Justi/OneDrive/Documenten/GitHub/vision/code/eindopdrachtVISN.ipynb#ch0000001?line=9'>10</a>\u001b[0m   validation_split\u001b[39m=\u001b[39;49m\u001b[39m0.0\u001b[39;49m,\n\u001b[0;32m     <a href='vscode-notebook-cell:/c%3A/Users/Justi/OneDrive/Documenten/GitHub/vision/code/eindopdrachtVISN.ipynb#ch0000001?line=10'>11</a>\u001b[0m   subset\u001b[39m=\u001b[39;49m\u001b[39m\"\u001b[39;49m\u001b[39mtraining\u001b[39;49m\u001b[39m\"\u001b[39;49m,\n\u001b[0;32m     <a href='vscode-notebook-cell:/c%3A/Users/Justi/OneDrive/Documenten/GitHub/vision/code/eindopdrachtVISN.ipynb#ch0000001?line=11'>12</a>\u001b[0m   seed\u001b[39m=\u001b[39;49m\u001b[39m123\u001b[39;49m,\n\u001b[0;32m     <a href='vscode-notebook-cell:/c%3A/Users/Justi/OneDrive/Documenten/GitHub/vision/code/eindopdrachtVISN.ipynb#ch0000001?line=12'>13</a>\u001b[0m   image_size\u001b[39m=\u001b[39;49m(\u001b[39m28\u001b[39;49m, \u001b[39m32\u001b[39;49m),\n\u001b[0;32m     <a href='vscode-notebook-cell:/c%3A/Users/Justi/OneDrive/Documenten/GitHub/vision/code/eindopdrachtVISN.ipynb#ch0000001?line=13'>14</a>\u001b[0m   batch_size\u001b[39m=\u001b[39;49m\u001b[39m32\u001b[39;49m)\n",
      "File \u001b[1;32m~\\AppData\\Local\\Packages\\PythonSoftwareFoundation.Python.3.9_qbz5n2kfra8p0\\LocalCache\\local-packages\\Python39\\site-packages\\keras\\preprocessing\\image_dataset.py:187\u001b[0m, in \u001b[0;36mimage_dataset_from_directory\u001b[1;34m(directory, labels, label_mode, class_names, color_mode, batch_size, image_size, shuffle, seed, validation_split, subset, interpolation, follow_links, crop_to_aspect_ratio, **kwargs)\u001b[0m\n\u001b[0;32m    <a href='file:///c%3A/Users/Justi/AppData/Local/Packages/PythonSoftwareFoundation.Python.3.9_qbz5n2kfra8p0/LocalCache/local-packages/Python39/site-packages/keras/preprocessing/image_dataset.py?line=182'>183</a>\u001b[0m   \u001b[39mraise\u001b[39;00m \u001b[39mValueError\u001b[39;00m(\n\u001b[0;32m    <a href='file:///c%3A/Users/Justi/AppData/Local/Packages/PythonSoftwareFoundation.Python.3.9_qbz5n2kfra8p0/LocalCache/local-packages/Python39/site-packages/keras/preprocessing/image_dataset.py?line=183'>184</a>\u001b[0m       \u001b[39m'\u001b[39m\u001b[39m`color_mode` must be one of \u001b[39m\u001b[39m{\u001b[39m\u001b[39m\"\u001b[39m\u001b[39mrgb\u001b[39m\u001b[39m\"\u001b[39m\u001b[39m, \u001b[39m\u001b[39m\"\u001b[39m\u001b[39mrgba\u001b[39m\u001b[39m\"\u001b[39m\u001b[39m, \u001b[39m\u001b[39m\"\u001b[39m\u001b[39mgrayscale\u001b[39m\u001b[39m\"\u001b[39m\u001b[39m}. \u001b[39m\u001b[39m'\u001b[39m\n\u001b[0;32m    <a href='file:///c%3A/Users/Justi/AppData/Local/Packages/PythonSoftwareFoundation.Python.3.9_qbz5n2kfra8p0/LocalCache/local-packages/Python39/site-packages/keras/preprocessing/image_dataset.py?line=184'>185</a>\u001b[0m       \u001b[39mf\u001b[39m\u001b[39m'\u001b[39m\u001b[39mReceived: color_mode=\u001b[39m\u001b[39m{\u001b[39;00mcolor_mode\u001b[39m}\u001b[39;00m\u001b[39m'\u001b[39m)\n\u001b[0;32m    <a href='file:///c%3A/Users/Justi/AppData/Local/Packages/PythonSoftwareFoundation.Python.3.9_qbz5n2kfra8p0/LocalCache/local-packages/Python39/site-packages/keras/preprocessing/image_dataset.py?line=185'>186</a>\u001b[0m interpolation \u001b[39m=\u001b[39m image_preprocessing\u001b[39m.\u001b[39mget_interpolation(interpolation)\n\u001b[1;32m--> <a href='file:///c%3A/Users/Justi/AppData/Local/Packages/PythonSoftwareFoundation.Python.3.9_qbz5n2kfra8p0/LocalCache/local-packages/Python39/site-packages/keras/preprocessing/image_dataset.py?line=186'>187</a>\u001b[0m dataset_utils\u001b[39m.\u001b[39;49mcheck_validation_split_arg(\n\u001b[0;32m    <a href='file:///c%3A/Users/Justi/AppData/Local/Packages/PythonSoftwareFoundation.Python.3.9_qbz5n2kfra8p0/LocalCache/local-packages/Python39/site-packages/keras/preprocessing/image_dataset.py?line=187'>188</a>\u001b[0m     validation_split, subset, shuffle, seed)\n\u001b[0;32m    <a href='file:///c%3A/Users/Justi/AppData/Local/Packages/PythonSoftwareFoundation.Python.3.9_qbz5n2kfra8p0/LocalCache/local-packages/Python39/site-packages/keras/preprocessing/image_dataset.py?line=189'>190</a>\u001b[0m \u001b[39mif\u001b[39;00m seed \u001b[39mis\u001b[39;00m \u001b[39mNone\u001b[39;00m:\n\u001b[0;32m    <a href='file:///c%3A/Users/Justi/AppData/Local/Packages/PythonSoftwareFoundation.Python.3.9_qbz5n2kfra8p0/LocalCache/local-packages/Python39/site-packages/keras/preprocessing/image_dataset.py?line=190'>191</a>\u001b[0m   seed \u001b[39m=\u001b[39m np\u001b[39m.\u001b[39mrandom\u001b[39m.\u001b[39mrandint(\u001b[39m1e6\u001b[39m)\n",
      "File \u001b[1;32m~\\AppData\\Local\\Packages\\PythonSoftwareFoundation.Python.3.9_qbz5n2kfra8p0\\LocalCache\\local-packages\\Python39\\site-packages\\keras\\preprocessing\\dataset_utils.py:238\u001b[0m, in \u001b[0;36mcheck_validation_split_arg\u001b[1;34m(validation_split, subset, shuffle, seed)\u001b[0m\n\u001b[0;32m    <a href='file:///c%3A/Users/Justi/AppData/Local/Packages/PythonSoftwareFoundation.Python.3.9_qbz5n2kfra8p0/LocalCache/local-packages/Python39/site-packages/keras/preprocessing/dataset_utils.py?line=233'>234</a>\u001b[0m   \u001b[39mraise\u001b[39;00m \u001b[39mValueError\u001b[39;00m(\n\u001b[0;32m    <a href='file:///c%3A/Users/Justi/AppData/Local/Packages/PythonSoftwareFoundation.Python.3.9_qbz5n2kfra8p0/LocalCache/local-packages/Python39/site-packages/keras/preprocessing/dataset_utils.py?line=234'>235</a>\u001b[0m       \u001b[39m'\u001b[39m\u001b[39m`validation_split` must be between 0 and 1, received: \u001b[39m\u001b[39m%s\u001b[39;00m\u001b[39m'\u001b[39m \u001b[39m%\u001b[39m\n\u001b[0;32m    <a href='file:///c%3A/Users/Justi/AppData/Local/Packages/PythonSoftwareFoundation.Python.3.9_qbz5n2kfra8p0/LocalCache/local-packages/Python39/site-packages/keras/preprocessing/dataset_utils.py?line=235'>236</a>\u001b[0m       (validation_split,))\n\u001b[0;32m    <a href='file:///c%3A/Users/Justi/AppData/Local/Packages/PythonSoftwareFoundation.Python.3.9_qbz5n2kfra8p0/LocalCache/local-packages/Python39/site-packages/keras/preprocessing/dataset_utils.py?line=236'>237</a>\u001b[0m \u001b[39mif\u001b[39;00m (validation_split \u001b[39mor\u001b[39;00m subset) \u001b[39mand\u001b[39;00m \u001b[39mnot\u001b[39;00m (validation_split \u001b[39mand\u001b[39;00m subset):\n\u001b[1;32m--> <a href='file:///c%3A/Users/Justi/AppData/Local/Packages/PythonSoftwareFoundation.Python.3.9_qbz5n2kfra8p0/LocalCache/local-packages/Python39/site-packages/keras/preprocessing/dataset_utils.py?line=237'>238</a>\u001b[0m   \u001b[39mraise\u001b[39;00m \u001b[39mValueError\u001b[39;00m(\n\u001b[0;32m    <a href='file:///c%3A/Users/Justi/AppData/Local/Packages/PythonSoftwareFoundation.Python.3.9_qbz5n2kfra8p0/LocalCache/local-packages/Python39/site-packages/keras/preprocessing/dataset_utils.py?line=238'>239</a>\u001b[0m       \u001b[39m'\u001b[39m\u001b[39mIf `subset` is set, `validation_split` must be set, and inversely.\u001b[39m\u001b[39m'\u001b[39m)\n\u001b[0;32m    <a href='file:///c%3A/Users/Justi/AppData/Local/Packages/PythonSoftwareFoundation.Python.3.9_qbz5n2kfra8p0/LocalCache/local-packages/Python39/site-packages/keras/preprocessing/dataset_utils.py?line=239'>240</a>\u001b[0m \u001b[39mif\u001b[39;00m subset \u001b[39mnot\u001b[39;00m \u001b[39min\u001b[39;00m (\u001b[39m'\u001b[39m\u001b[39mtraining\u001b[39m\u001b[39m'\u001b[39m, \u001b[39m'\u001b[39m\u001b[39mvalidation\u001b[39m\u001b[39m'\u001b[39m, \u001b[39mNone\u001b[39;00m):\n\u001b[0;32m    <a href='file:///c%3A/Users/Justi/AppData/Local/Packages/PythonSoftwareFoundation.Python.3.9_qbz5n2kfra8p0/LocalCache/local-packages/Python39/site-packages/keras/preprocessing/dataset_utils.py?line=240'>241</a>\u001b[0m   \u001b[39mraise\u001b[39;00m \u001b[39mValueError\u001b[39;00m(\u001b[39m'\u001b[39m\u001b[39m`subset` must be either \u001b[39m\u001b[39m\"\u001b[39m\u001b[39mtraining\u001b[39m\u001b[39m\"\u001b[39m\u001b[39m \u001b[39m\u001b[39m'\u001b[39m\n\u001b[0;32m    <a href='file:///c%3A/Users/Justi/AppData/Local/Packages/PythonSoftwareFoundation.Python.3.9_qbz5n2kfra8p0/LocalCache/local-packages/Python39/site-packages/keras/preprocessing/dataset_utils.py?line=241'>242</a>\u001b[0m                    \u001b[39m'\u001b[39m\u001b[39mor \u001b[39m\u001b[39m\"\u001b[39m\u001b[39mvalidation\u001b[39m\u001b[39m\"\u001b[39m\u001b[39m, received: \u001b[39m\u001b[39m%s\u001b[39;00m\u001b[39m'\u001b[39m \u001b[39m%\u001b[39m (subset,))\n",
      "\u001b[1;31mValueError\u001b[0m: If `subset` is set, `validation_split` must be set, and inversely."
     ]
    }
   ],
   "source": [
    "from keras.models import Sequential,load_model\n",
    "from keras.layers import Conv2D, MaxPooling2D, Dense, Flatten, Reshape\n",
    "from keras.datasets import cifar10\n",
    "from tensorflow.keras.utils import to_categorical\n",
    "import tensorflow as tf\n",
    "from time import time\n",
    "\n",
    "data_dir = \"..\\\\data\"\n",
    "train_ds = tf.keras.utils.image_dataset_from_directory(\n",
    "  data_dir,\n",
    "  validation_split=0.2,\n",
    "  subset=\"training\",\n",
    "  seed=time(),\n",
    "  image_size=(28, 32),\n",
    "  batch_size=32)"
   ]
  }
 ],
 "metadata": {
  "interpreter": {
   "hash": "4bfbb51c095ea4207accf60ac1e0b966bbb6c3d9216577204ab2f0cbe13a26af"
  },
  "kernelspec": {
   "display_name": "Python 3.9.10 64-bit (windows store)",
   "language": "python",
   "name": "python3"
  },
  "language_info": {
   "codemirror_mode": {
    "name": "ipython",
    "version": 3
   },
   "file_extension": ".py",
   "mimetype": "text/x-python",
   "name": "python",
   "nbconvert_exporter": "python",
   "pygments_lexer": "ipython3",
   "version": "3.9.10"
  },
  "orig_nbformat": 4
 },
 "nbformat": 4,
 "nbformat_minor": 2
}
