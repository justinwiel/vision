{
 "cells": [
  {
   "cell_type": "markdown",
   "metadata": {},
   "source": [
    "<center><bold>Eindopdracht voor computer vision, binaire classificatie van hersenscans</bold></center>"
   ]
  },
  {
   "cell_type": "code",
   "execution_count": 230,
   "metadata": {},
   "outputs": [
    {
     "name": "stdout",
     "output_type": "stream",
     "text": [
      "Found 2800 files belonging to 2 classes.\n",
      "Using 2240 files for training.\n",
      "Found 2800 files belonging to 2 classes.\n",
      "Using 560 files for validation.\n"
     ]
    }
   ],
   "source": [
    "from keras.models import Sequential,load_model\n",
    "from keras.layers import Conv2D, MaxPooling2D, Dense, Flatten, Reshape\n",
    "from keras.datasets import cifar10\n",
    "import tensorflow_datasets as tfds\n",
    "from tensorflow.keras.utils import to_categorical\n",
    "import tensorflow as tf\n",
    "import matplotlib.pyplot as plt\n",
    "import numpy as np\n",
    "from random import randint,seed\n",
    "from time import time_ns\n",
    "\n",
    "data_dir = \"..\\\\data\"\n",
    "train_ds = tf.keras.utils.image_dataset_from_directory(\n",
    "  data_dir,\n",
    "  validation_split=0.2,\n",
    "  subset=\"training\",\n",
    "  seed=486235864,\n",
    "  image_size=(28, 32),\n",
    "  batch_size=16)\n",
    "images_train = []\n",
    "labels_train = []\n",
    "for images, labels in train_ds:\n",
    "    images_train.append(images)\n",
    "    labels_train.append(labels)\n",
    "\n",
    "vals_ds = tf.keras.utils.image_dataset_from_directory(\n",
    "  data_dir,\n",
    "  validation_split=0.2,\n",
    "  subset=\"validation\",\n",
    "  seed=486235864,\n",
    "  image_size=(28, 32),\n",
    "  batch_size=1)\n",
    "\n",
    "\n"
   ]
  },
  {
   "cell_type": "code",
   "execution_count": 231,
   "metadata": {},
   "outputs": [],
   "source": [
    "model = tf.keras.Sequential([\n",
    "  tf.keras.layers.Rescaling(1./255),\n",
    "  tf.keras.layers.Conv2D(32, 3, activation='relu'),\n",
    "  tf.keras.layers.MaxPooling2D(2),\n",
    "  tf.keras.layers.Conv2D(32, 3, activation='relu'),\n",
    "  tf.keras.layers.Conv2D(32, 3, activation='relu'),\n",
    "  tf.keras.layers.Flatten(),\n",
    "  tf.keras.layers.Dense(128, activation='relu'),\n",
    "  tf.keras.layers.Dense(2)\n",
    "])\n",
    "\n",
    "model.compile(\n",
    "  optimizer='adam',\n",
    "  loss=tf.losses.SparseCategoricalCrossentropy(from_logits=True),\n",
    "  metrics=['accuracy'])"
   ]
  },
  {
   "cell_type": "code",
   "execution_count": 232,
   "metadata": {},
   "outputs": [
    {
     "name": "stdout",
     "output_type": "stream",
     "text": [
      "Epoch 1/20\n",
      "140/140 [==============================] - 4s 26ms/step - loss: 0.4440 - accuracy: 0.7982 - val_loss: 0.3438 - val_accuracy: 0.8750\n",
      "Epoch 2/20\n",
      "140/140 [==============================] - 4s 26ms/step - loss: 0.2645 - accuracy: 0.8996 - val_loss: 0.2126 - val_accuracy: 0.9321\n",
      "Epoch 3/20\n",
      "140/140 [==============================] - 4s 26ms/step - loss: 0.1544 - accuracy: 0.9455 - val_loss: 0.1374 - val_accuracy: 0.9571\n",
      "Epoch 4/20\n",
      "140/140 [==============================] - 4s 26ms/step - loss: 0.0735 - accuracy: 0.9759 - val_loss: 0.1974 - val_accuracy: 0.9232\n",
      "Epoch 5/20\n",
      "140/140 [==============================] - 4s 26ms/step - loss: 0.0791 - accuracy: 0.9732 - val_loss: 0.1193 - val_accuracy: 0.9625\n",
      "Epoch 6/20\n",
      "140/140 [==============================] - 4s 26ms/step - loss: 0.0574 - accuracy: 0.9777 - val_loss: 0.1241 - val_accuracy: 0.9607\n",
      "Epoch 7/20\n",
      "140/140 [==============================] - 4s 26ms/step - loss: 0.0240 - accuracy: 0.9933 - val_loss: 0.1014 - val_accuracy: 0.9643\n",
      "Epoch 8/20\n",
      "140/140 [==============================] - 4s 25ms/step - loss: 0.0214 - accuracy: 0.9924 - val_loss: 0.1163 - val_accuracy: 0.9696\n",
      "Epoch 9/20\n",
      "140/140 [==============================] - 4s 26ms/step - loss: 0.0165 - accuracy: 0.9942 - val_loss: 0.1938 - val_accuracy: 0.9500\n",
      "Epoch 10/20\n",
      "140/140 [==============================] - 4s 27ms/step - loss: 0.0457 - accuracy: 0.9835 - val_loss: 0.0824 - val_accuracy: 0.9786\n",
      "Epoch 11/20\n",
      "140/140 [==============================] - 4s 26ms/step - loss: 0.0350 - accuracy: 0.9853 - val_loss: 0.2863 - val_accuracy: 0.9107\n",
      "Epoch 12/20\n",
      "140/140 [==============================] - 4s 25ms/step - loss: 0.0342 - accuracy: 0.9893 - val_loss: 0.0890 - val_accuracy: 0.9821\n",
      "Epoch 13/20\n",
      "140/140 [==============================] - 4s 27ms/step - loss: 0.0073 - accuracy: 0.9969 - val_loss: 0.0977 - val_accuracy: 0.9839\n",
      "Epoch 14/20\n",
      "140/140 [==============================] - 4s 27ms/step - loss: 6.0385e-04 - accuracy: 1.0000 - val_loss: 0.1134 - val_accuracy: 0.9821\n",
      "Epoch 15/20\n",
      "140/140 [==============================] - 4s 26ms/step - loss: 2.4181e-04 - accuracy: 1.0000 - val_loss: 0.1176 - val_accuracy: 0.9821\n",
      "Epoch 16/20\n",
      "140/140 [==============================] - 4s 25ms/step - loss: 1.6306e-04 - accuracy: 1.0000 - val_loss: 0.1209 - val_accuracy: 0.9821\n",
      "Epoch 17/20\n",
      "140/140 [==============================] - 4s 26ms/step - loss: 1.2295e-04 - accuracy: 1.0000 - val_loss: 0.1232 - val_accuracy: 0.9821\n",
      "Epoch 18/20\n",
      "140/140 [==============================] - 4s 29ms/step - loss: 9.6119e-05 - accuracy: 1.0000 - val_loss: 0.1252 - val_accuracy: 0.9821\n",
      "Epoch 19/20\n",
      "140/140 [==============================] - 4s 29ms/step - loss: 7.8099e-05 - accuracy: 1.0000 - val_loss: 0.1272 - val_accuracy: 0.9821\n",
      "Epoch 20/20\n",
      "140/140 [==============================] - 4s 29ms/step - loss: 6.5561e-05 - accuracy: 1.0000 - val_loss: 0.1293 - val_accuracy: 0.9821\n"
     ]
    },
    {
     "data": {
      "text/plain": [
       "<keras.callbacks.History at 0x248fd717850>"
      ]
     },
     "execution_count": 232,
     "metadata": {},
     "output_type": "execute_result"
    }
   ],
   "source": [
    "model.fit(train_ds, epochs=20,validation_data= vals_ds)"
   ]
  },
  {
   "cell_type": "code",
   "execution_count": 233,
   "metadata": {},
   "outputs": [
    {
     "name": "stdout",
     "output_type": "stream",
     "text": [
      "560/560 - 1s - loss: 0.1293 - accuracy: 0.9821 - 1s/epoch - 2ms/step\n"
     ]
    }
   ],
   "source": [
    "test_loss, test_acc = model.evaluate(vals_ds, verbose=2)"
   ]
  },
  {
   "cell_type": "code",
   "execution_count": 234,
   "metadata": {},
   "outputs": [
    {
     "name": "stdout",
     "output_type": "stream",
     "text": [
      "0.9821428656578064\n"
     ]
    }
   ],
   "source": [
    "print(test_acc)"
   ]
  },
  {
   "cell_type": "code",
   "execution_count": 235,
   "metadata": {},
   "outputs": [
    {
     "name": "stdout",
     "output_type": "stream",
     "text": [
      "Found 200 files belonging to 2 classes.\n",
      "200/200 - 1s - loss: 0.6706 - accuracy: 0.9350 - 530ms/epoch - 3ms/step\n"
     ]
    }
   ],
   "source": [
    "test_dir = \"..\\\\test\"\n",
    "test_ds = tf.keras.utils.image_dataset_from_directory(\n",
    "  test_dir,\n",
    "  seed=486235864,\n",
    "  image_size=(28, 32),\n",
    "  batch_size=1)\n",
    "\n",
    "test_loss, test_acc = model.evaluate(test_ds, verbose=2)\n",
    "\n"
   ]
  },
  {
   "cell_type": "code",
   "execution_count": 236,
   "metadata": {},
   "outputs": [
    {
     "name": "stdout",
     "output_type": "stream",
     "text": [
      "0.9350000023841858\n"
     ]
    }
   ],
   "source": [
    "print(test_acc)"
   ]
  },
  {
   "cell_type": "code",
   "execution_count": 237,
   "metadata": {},
   "outputs": [],
   "source": [
    "def show_res(img,  res):\n",
    "    fig, ax = plt.subplots(nrows=1, ncols=1, figsize=(4, 3))\n",
    "    ax.imshow(img, cmap='gray')\n",
    "    if(res == 1):\n",
    "        ax.set_title('tumor', fontsize=10)\n",
    "    elif(res == 0):\n",
    "        ax.set_title('healty', fontsize=10)"
   ]
  },
  {
   "cell_type": "code",
   "execution_count": 248,
   "metadata": {},
   "outputs": [
    {
     "data": {
      "image/png": "[encoded data removed]",
      "text/plain": [
       "<Figure size 288x216 with 1 Axes>"
      ]
     },
     "metadata": {
      "needs_background": "light"
     },
     "output_type": "display_data"
    }
   ],
   "source": [
    "from skimage.color import rgb2gray\n",
    "spull = test_ds.take(1)\n",
    "images_test = []\n",
    "labels_test = []\n",
    "for images, labels in test_ds:\n",
    "    images_test.append(images)\n",
    "    labels_test.append(labels)\n",
    "#plt.imshow(np.asanyarray(spull))\n",
    "seed(time_ns())\n",
    "test_IM = randint(0,len(images_test))\n",
    "predictions = model.predict(images_test[test_IM])\n",
    "img = images_test[test_IM]\n",
    "img = np.squeeze(rgb2gray(img))\n",
    "\n",
    "res = np.argmax(predictions)\n",
    "show_res(img, res)\n",
    "plt.show()\n",
    "\n",
    "\n",
    "\n",
    "\n"
   ]
  },
  {
   "cell_type": "code",
   "execution_count": 239,
   "metadata": {},
   "outputs": [],
   "source": [
    "from sklearn import svm\n",
    "from skimage.transform import resize\n",
    "from os import listdir\n",
    "from os.path import isfile, join\n",
    "from random import shuffle, seed\n",
    "\n",
    "yespath = '..\\\\data\\\\yes'\n",
    "yesfiles = [f for f in listdir(yespath) if isfile(join(yespath, f))]\n",
    "\n",
    "x = []\n",
    "y = []\n",
    "\n",
    "for file in yesfiles:\n",
    "    img = plt.imread(f\"..\\\\data\\\\yes\\\\{file}\")\n",
    "    img = resize(img, (28, 32,3),\n",
    "                 anti_aliasing=True)\n",
    "    x.append(rgb2gray(img).flatten())\n",
    "    y.append('yes')\n",
    "\n",
    "\n",
    "nopath = '..\\\\data\\\\no'\n",
    "nofiles = [f for f in listdir(nopath) if isfile(join(nopath, f))]\n",
    "\n",
    "for file in nofiles:\n",
    "    img = plt.imread(f\"..\\\\data\\\\no\\\\{file}\")\n",
    "    img = resize(img, (28, 32,3),\n",
    "                 anti_aliasing=True)\n",
    "    x.append(rgb2gray(img).flatten())\n",
    "    y.append('no')\n",
    "\n",
    "\n",
    "z = list(zip(x, y))  # zip so it stays together during shuffle\n",
    "seed(7577947579)\n",
    "shuffle(z)\n",
    "\n",
    "x, y = zip(*z)\n"
   ]
  },
  {
   "cell_type": "code",
   "execution_count": 240,
   "metadata": {},
   "outputs": [
    {
     "name": "stdout",
     "output_type": "stream",
     "text": [
      "0.875\n"
     ]
    }
   ],
   "source": [
    "from sklearn import metrics\n",
    "Svm = svm.SVC()\n",
    "Svm.fit(x,y)\n",
    "\n",
    "yespath = '..\\\\test\\\\yes'\n",
    "yesfiles = [f for f in listdir(yespath) if isfile(join(yespath, f))]\n",
    "\n",
    "x_test = []\n",
    "y_test = []\n",
    "\n",
    "for file in yesfiles:\n",
    "    img = plt.imread(f\"..\\\\test\\\\yes\\\\{file}\")\n",
    "    img = resize(img, (28, 32,3),\n",
    "                 anti_aliasing=True)\n",
    "    x_test.append(rgb2gray(img).flatten())\n",
    "    y_test.append('yes')\n",
    "\n",
    "\n",
    "nopath = '..\\\\test\\\\no'\n",
    "nofiles = [f for f in listdir(nopath) if isfile(join(nopath, f))]\n",
    "\n",
    "for file in nofiles:\n",
    "    img = plt.imread(f\"..\\\\test\\\\no\\\\{file}\")\n",
    "    img = resize(img, (28, 32,3),\n",
    "                 anti_aliasing=True)\n",
    "    x_test.append(rgb2gray(img).flatten())\n",
    "    y_test.append('no')\n",
    "\n",
    "\n",
    "z_test = list(zip(x_test, y_test))  # zip so it stays together during shuffle\n",
    "seed(398475937597439)\n",
    "shuffle(z_test)\n",
    "x_test , y_test = zip(*z_test)\n",
    "\n",
    "evaluation = metrics.accuracy_score(y_test,Svm.predict(x_test))\n",
    "print(evaluation)\n",
    "\n"
   ]
  }
 ],
 "metadata": {
  "interpreter": {
   "hash": "4bfbb51c095ea4207accf60ac1e0b966bbb6c3d9216577204ab2f0cbe13a26af"
  },
  "kernelspec": {
   "display_name": "Python 3.9.10 64-bit (windows store)",
   "language": "python",
   "name": "python3"
  },
  "language_info": {
   "codemirror_mode": {
    "name": "ipython",
    "version": 3
   },
   "file_extension": ".py",
   "mimetype": "text/x-python",
   "name": "python",
   "nbconvert_exporter": "python",
   "pygments_lexer": "ipython3",
   "version": "3.9.10"
  },
  "orig_nbformat": 4
 },
 "nbformat": 4,
 "nbformat_minor": 2
}
