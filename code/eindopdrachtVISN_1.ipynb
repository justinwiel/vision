{
 "cells": [
  {
   "cell_type": "markdown",
   "metadata": {},
   "source": [
    "<center><bold>Eindopdracht voor computer vision, binaire classificatie van hersenscans</bold></center>"
   ]
  },
  {
   "cell_type": "code",
   "execution_count": 2,
   "metadata": {},
   "outputs": [],
   "source": [
    "from keras.models import Sequential,load_model\n",
    "from keras.layers import Conv2D, MaxPooling2D, Dense, Flatten, Reshape\n",
    "import tensorflow_datasets as tfds\n",
    "from tensorflow.keras.utils import to_categorical\n",
    "import tensorflow as tf\n",
    "import matplotlib.pyplot as plt\n",
    "import numpy as np\n",
    "from random import randint,seed\n",
    "from time import time_ns"
   ]
  },
  {
   "cell_type": "code",
   "execution_count": 1,
   "metadata": {},
   "outputs": [
    {
     "name": "stdout",
     "output_type": "stream",
     "text": [
      "Found 2800 files belonging to 2 classes.\n",
      "Using 2240 files for training.\n",
      "Found 2800 files belonging to 2 classes.\n",
      "Using 560 files for validation.\n"
     ]
    }
   ],
   "source": [
    "\n",
    "\n",
    "data_dir = \"..\\\\data\"\n",
    "train_ds = tf.keras.utils.image_dataset_from_directory(\n",
    "  data_dir,\n",
    "  validation_split=0.2,\n",
    "  subset=\"training\",\n",
    "  seed=486235864,\n",
    "  image_size=(28, 32),\n",
    "  batch_size=16)\n",
    "images_train = []\n",
    "labels_train = []\n",
    "for images, labels in train_ds:\n",
    "    images_train.append(images)\n",
    "    labels_train.append(labels)\n",
    "\n",
    "vals_ds = tf.keras.utils.image_dataset_from_directory(\n",
    "  data_dir,\n",
    "  validation_split=0.2,\n",
    "  subset=\"validation\",\n",
    "  seed=486235864,\n",
    "  image_size=(28, 32),\n",
    "  batch_size=1)\n",
    "\n",
    "\n"
   ]
  },
  {
   "cell_type": "code",
   "execution_count": 2,
   "metadata": {},
   "outputs": [],
   "source": [
    "model = tf.keras.Sequential([\n",
    "  tf.keras.layers.Rescaling(1./255),\n",
    "  tf.keras.layers.Conv2D(32, 3, activation='relu'),\n",
    "  tf.keras.layers.MaxPooling2D(2),\n",
    "  tf.keras.layers.Conv2D(32, 3, activation='relu'),\n",
    "  tf.keras.layers.Conv2D(32, 3, activation='relu'),\n",
    "  tf.keras.layers.Flatten(),\n",
    "  tf.keras.layers.Dense(128, activation='relu'),\n",
    "  tf.keras.layers.Dense(2)\n",
    "])\n",
    "\n",
    "model.compile(\n",
    "  optimizer='adam',\n",
    "  loss=tf.losses.SparseCategoricalCrossentropy(from_logits=True),\n",
    "  metrics=['accuracy'])"
   ]
  },
  {
   "cell_type": "code",
   "execution_count": 3,
   "metadata": {},
   "outputs": [
    {
     "name": "stdout",
     "output_type": "stream",
     "text": [
      "Epoch 1/20\n",
      "140/140 [==============================] - 7s 45ms/step - loss: 0.4771 - accuracy: 0.7674 - val_loss: 0.3947 - val_accuracy: 0.8179\n",
      "Epoch 2/20\n",
      "140/140 [==============================] - 6s 43ms/step - loss: 0.2913 - accuracy: 0.8741 - val_loss: 0.2510 - val_accuracy: 0.9000\n",
      "Epoch 3/20\n",
      "140/140 [==============================] - 6s 45ms/step - loss: 0.1852 - accuracy: 0.9335 - val_loss: 0.1230 - val_accuracy: 0.9571\n",
      "Epoch 4/20\n",
      "140/140 [==============================] - 6s 44ms/step - loss: 0.0895 - accuracy: 0.9710 - val_loss: 0.1027 - val_accuracy: 0.9625\n",
      "Epoch 5/20\n",
      "140/140 [==============================] - 6s 40ms/step - loss: 0.0350 - accuracy: 0.9888 - val_loss: 0.0771 - val_accuracy: 0.9714\n",
      "Epoch 6/20\n",
      "140/140 [==============================] - 7s 46ms/step - loss: 0.0385 - accuracy: 0.9862 - val_loss: 0.1356 - val_accuracy: 0.9536\n",
      "Epoch 7/20\n",
      "140/140 [==============================] - 6s 43ms/step - loss: 0.0249 - accuracy: 0.9920 - val_loss: 0.0855 - val_accuracy: 0.9732\n",
      "Epoch 8/20\n",
      "140/140 [==============================] - 6s 43ms/step - loss: 0.0116 - accuracy: 0.9978 - val_loss: 0.1118 - val_accuracy: 0.9643\n",
      "Epoch 9/20\n",
      "140/140 [==============================] - 6s 45ms/step - loss: 0.0436 - accuracy: 0.9857 - val_loss: 0.0938 - val_accuracy: 0.9607\n",
      "Epoch 10/20\n",
      "140/140 [==============================] - 6s 42ms/step - loss: 0.0232 - accuracy: 0.9924 - val_loss: 0.1075 - val_accuracy: 0.9696\n",
      "Epoch 11/20\n",
      "140/140 [==============================] - 8s 56ms/step - loss: 0.0610 - accuracy: 0.9844 - val_loss: 0.1030 - val_accuracy: 0.9696\n",
      "Epoch 12/20\n",
      "140/140 [==============================] - 8s 54ms/step - loss: 0.0077 - accuracy: 0.9991 - val_loss: 0.0995 - val_accuracy: 0.9714\n",
      "Epoch 13/20\n",
      "140/140 [==============================] - 8s 56ms/step - loss: 0.0032 - accuracy: 0.9996 - val_loss: 0.0671 - val_accuracy: 0.9821\n",
      "Epoch 14/20\n",
      "140/140 [==============================] - 7s 49ms/step - loss: 4.3207e-04 - accuracy: 1.0000 - val_loss: 0.0675 - val_accuracy: 0.9839\n",
      "Epoch 15/20\n",
      "140/140 [==============================] - 6s 42ms/step - loss: 1.6240e-04 - accuracy: 1.0000 - val_loss: 0.0681 - val_accuracy: 0.9839\n",
      "Epoch 16/20\n",
      "140/140 [==============================] - 6s 41ms/step - loss: 1.2295e-04 - accuracy: 1.0000 - val_loss: 0.0694 - val_accuracy: 0.9839\n",
      "Epoch 17/20\n",
      "140/140 [==============================] - 6s 43ms/step - loss: 1.0109e-04 - accuracy: 1.0000 - val_loss: 0.0706 - val_accuracy: 0.9839\n",
      "Epoch 18/20\n",
      "140/140 [==============================] - 6s 46ms/step - loss: 8.2853e-05 - accuracy: 1.0000 - val_loss: 0.0718 - val_accuracy: 0.9839\n",
      "Epoch 19/20\n",
      "140/140 [==============================] - 7s 51ms/step - loss: 7.0522e-05 - accuracy: 1.0000 - val_loss: 0.0731 - val_accuracy: 0.9839\n",
      "Epoch 20/20\n",
      "140/140 [==============================] - 8s 58ms/step - loss: 5.9953e-05 - accuracy: 1.0000 - val_loss: 0.0741 - val_accuracy: 0.9839\n"
     ]
    },
    {
     "data": {
      "text/plain": [
       "<keras.callbacks.History at 0x1dab1cf3c40>"
      ]
     },
     "execution_count": 3,
     "metadata": {},
     "output_type": "execute_result"
    }
   ],
   "source": [
    "model.fit(train_ds, epochs=20,validation_data= vals_ds)"
   ]
  },
  {
   "cell_type": "code",
   "execution_count": 6,
   "metadata": {},
   "outputs": [
    {
     "ename": "NameError",
     "evalue": "name 'model' is not defined",
     "output_type": "error",
     "traceback": [
      "\u001b[1;31m---------------------------------------------------------------------------\u001b[0m",
      "\u001b[1;31mNameError\u001b[0m                                 Traceback (most recent call last)",
      "\u001b[1;32mc:\\Users\\Justi\\OneDrive\\Documenten\\GitHub\\vision\\code\\eindopdrachtVISN_1.ipynb Cell 6'\u001b[0m in \u001b[0;36m<module>\u001b[1;34m\u001b[0m\n\u001b[1;32m----> <a href='vscode-notebook-cell:/c%3A/Users/Justi/OneDrive/Documenten/GitHub/vision/code/eindopdrachtVISN_1.ipynb#ch0000004?line=0'>1</a>\u001b[0m model \u001b[39m=\u001b[39m load_model(model\u001b[39m.\u001b[39mh5)\n\u001b[0;32m      <a href='vscode-notebook-cell:/c%3A/Users/Justi/OneDrive/Documenten/GitHub/vision/code/eindopdrachtVISN_1.ipynb#ch0000004?line=1'>2</a>\u001b[0m test_loss, test_acc \u001b[39m=\u001b[39m model\u001b[39m.\u001b[39mevaluate(vals_ds, verbose\u001b[39m=\u001b[39m\u001b[39m2\u001b[39m)\n",
      "\u001b[1;31mNameError\u001b[0m: name 'model' is not defined"
     ]
    }
   ],
   "source": [
    "test_loss, test_acc = model.evaluate(vals_ds, verbose=2)"
   ]
  },
  {
   "cell_type": "code",
   "execution_count": 5,
   "metadata": {},
   "outputs": [
    {
     "name": "stdout",
     "output_type": "stream",
     "text": [
      "0.9839285612106323\n"
     ]
    }
   ],
   "source": [
    "print(test_acc)"
   ]
  },
  {
   "cell_type": "code",
   "execution_count": 5,
   "metadata": {},
   "outputs": [
    {
     "ename": "NameError",
     "evalue": "name 'model' is not defined",
     "output_type": "error",
     "traceback": [
      "\u001b[1;31m---------------------------------------------------------------------------\u001b[0m",
      "\u001b[1;31mNameError\u001b[0m                                 Traceback (most recent call last)",
      "\u001b[1;32mc:\\Users\\Justi\\OneDrive\\Documenten\\GitHub\\vision\\code\\eindopdrachtVISN_1.ipynb Cell 8'\u001b[0m in \u001b[0;36m<module>\u001b[1;34m\u001b[0m\n\u001b[0;32m      <a href='vscode-notebook-cell:/c%3A/Users/Justi/OneDrive/Documenten/GitHub/vision/code/eindopdrachtVISN_1.ipynb#ch0000006?line=0'>1</a>\u001b[0m test_dir \u001b[39m=\u001b[39m \u001b[39m\"\u001b[39m\u001b[39m..\u001b[39m\u001b[39m\\\\\u001b[39;00m\u001b[39mtest\u001b[39m\u001b[39m\"\u001b[39m\n\u001b[1;32m----> <a href='vscode-notebook-cell:/c%3A/Users/Justi/OneDrive/Documenten/GitHub/vision/code/eindopdrachtVISN_1.ipynb#ch0000006?line=1'>2</a>\u001b[0m model \u001b[39m=\u001b[39m load_model(model\u001b[39m.\u001b[39mh5)\n\u001b[0;32m      <a href='vscode-notebook-cell:/c%3A/Users/Justi/OneDrive/Documenten/GitHub/vision/code/eindopdrachtVISN_1.ipynb#ch0000006?line=2'>3</a>\u001b[0m test_ds \u001b[39m=\u001b[39m tf\u001b[39m.\u001b[39mkeras\u001b[39m.\u001b[39mutils\u001b[39m.\u001b[39mimage_dataset_from_directory(\n\u001b[0;32m      <a href='vscode-notebook-cell:/c%3A/Users/Justi/OneDrive/Documenten/GitHub/vision/code/eindopdrachtVISN_1.ipynb#ch0000006?line=3'>4</a>\u001b[0m   test_dir,\n\u001b[0;32m      <a href='vscode-notebook-cell:/c%3A/Users/Justi/OneDrive/Documenten/GitHub/vision/code/eindopdrachtVISN_1.ipynb#ch0000006?line=4'>5</a>\u001b[0m   seed\u001b[39m=\u001b[39m\u001b[39m486235864\u001b[39m,\n\u001b[0;32m      <a href='vscode-notebook-cell:/c%3A/Users/Justi/OneDrive/Documenten/GitHub/vision/code/eindopdrachtVISN_1.ipynb#ch0000006?line=5'>6</a>\u001b[0m   image_size\u001b[39m=\u001b[39m(\u001b[39m28\u001b[39m, \u001b[39m32\u001b[39m),\n\u001b[0;32m      <a href='vscode-notebook-cell:/c%3A/Users/Justi/OneDrive/Documenten/GitHub/vision/code/eindopdrachtVISN_1.ipynb#ch0000006?line=6'>7</a>\u001b[0m   batch_size\u001b[39m=\u001b[39m\u001b[39m1\u001b[39m)\n\u001b[0;32m      <a href='vscode-notebook-cell:/c%3A/Users/Justi/OneDrive/Documenten/GitHub/vision/code/eindopdrachtVISN_1.ipynb#ch0000006?line=8'>9</a>\u001b[0m test_loss, test_acc \u001b[39m=\u001b[39m model\u001b[39m.\u001b[39mevaluate(test_ds, verbose\u001b[39m=\u001b[39m\u001b[39m2\u001b[39m)\n",
      "\u001b[1;31mNameError\u001b[0m: name 'model' is not defined"
     ]
    }
   ],
   "source": [
    "test_dir = \"..\\\\test\"\n",
    "model = load_model(\"model.h5\")\n",
    "test_ds = tf.keras.utils.image_dataset_from_directory(\n",
    "  test_dir,\n",
    "  seed=486235864,\n",
    "  image_size=(28, 32),\n",
    "  batch_size=1)\n",
    "\n",
    "test_loss, test_acc = model.evaluate(test_ds, verbose=2)\n",
    "\n"
   ]
  },
  {
   "cell_type": "code",
   "execution_count": 7,
   "metadata": {},
   "outputs": [
    {
     "name": "stdout",
     "output_type": "stream",
     "text": [
      "0.9399999976158142\n"
     ]
    }
   ],
   "source": [
    "print(test_acc)"
   ]
  },
  {
   "cell_type": "code",
   "execution_count": 8,
   "metadata": {},
   "outputs": [],
   "source": [
    "def show_res(img,  res):\n",
    "    fig, ax = plt.subplots(nrows=1, ncols=1, figsize=(4, 3))\n",
    "    ax.imshow(img, cmap='gray')\n",
    "    if(res == 1):\n",
    "        ax.set_title('tumor', fontsize=10)\n",
    "    elif(res == 0):\n",
    "        ax.set_title('healty', fontsize=10)"
   ]
  },
  {
   "cell_type": "code",
   "execution_count": 3,
   "metadata": {},
   "outputs": [
    {
     "ename": "NameError",
     "evalue": "name 'test_ds' is not defined",
     "output_type": "error",
     "traceback": [
      "\u001b[1;31m---------------------------------------------------------------------------\u001b[0m",
      "\u001b[1;31mNameError\u001b[0m                                 Traceback (most recent call last)",
      "\u001b[1;32mc:\\Users\\Justi\\OneDrive\\Documenten\\GitHub\\vision\\code\\eindopdrachtVISN_1.ipynb Cell 11'\u001b[0m in \u001b[0;36m<module>\u001b[1;34m\u001b[0m\n\u001b[0;32m      <a href='vscode-notebook-cell:/c%3A/Users/Justi/OneDrive/Documenten/GitHub/vision/code/eindopdrachtVISN_1.ipynb#ch0000009?line=0'>1</a>\u001b[0m \u001b[39mfrom\u001b[39;00m \u001b[39mskimage\u001b[39;00m\u001b[39m.\u001b[39;00m\u001b[39mcolor\u001b[39;00m \u001b[39mimport\u001b[39;00m rgb2gray\n\u001b[1;32m----> <a href='vscode-notebook-cell:/c%3A/Users/Justi/OneDrive/Documenten/GitHub/vision/code/eindopdrachtVISN_1.ipynb#ch0000009?line=1'>2</a>\u001b[0m spull \u001b[39m=\u001b[39m test_ds\u001b[39m.\u001b[39mtake(\u001b[39m1\u001b[39m)\n\u001b[0;32m      <a href='vscode-notebook-cell:/c%3A/Users/Justi/OneDrive/Documenten/GitHub/vision/code/eindopdrachtVISN_1.ipynb#ch0000009?line=2'>3</a>\u001b[0m model \u001b[39m=\u001b[39m load_model(model\u001b[39m.\u001b[39mh5)\n\u001b[0;32m      <a href='vscode-notebook-cell:/c%3A/Users/Justi/OneDrive/Documenten/GitHub/vision/code/eindopdrachtVISN_1.ipynb#ch0000009?line=3'>4</a>\u001b[0m images_test \u001b[39m=\u001b[39m []\n",
      "\u001b[1;31mNameError\u001b[0m: name 'test_ds' is not defined"
     ]
    }
   ],
   "source": [
    "from skimage.color import rgb2gray\n",
    "spull = test_ds.take(1)\n",
    "\n",
    "images_test = []\n",
    "labels_test = []\n",
    "for images, labels in test_ds:\n",
    "    images_test.append(images)\n",
    "    labels_test.append(labels)\n",
    "#plt.imshow(np.asanyarray(spull))\n",
    "seed(time_ns())\n",
    "test_IM = randint(0,len(images_test))\n",
    "predictions = model.predict(images_test[test_IM])\n",
    "img = images_test[test_IM]\n",
    "img = np.squeeze(rgb2gray(img))\n",
    "\n",
    "res = np.argmax(predictions)\n",
    "show_res(img, res)\n",
    "plt.show()\n",
    "\n",
    "\n",
    "\n",
    "\n"
   ]
  },
  {
   "cell_type": "code",
   "execution_count": 10,
   "metadata": {},
   "outputs": [],
   "source": [
    "model.save(\"model.h5\")"
   ]
  }
 ],
 "metadata": {
  "interpreter": {
   "hash": "4bfbb51c095ea4207accf60ac1e0b966bbb6c3d9216577204ab2f0cbe13a26af"
  },
  "kernelspec": {
   "display_name": "Python 3.9.10 64-bit (windows store)",
   "language": "python",
   "name": "python3"
  },
  "language_info": {
   "codemirror_mode": {
    "name": "ipython",
    "version": 3
   },
   "file_extension": ".py",
   "mimetype": "text/x-python",
   "name": "python",
   "nbconvert_exporter": "python",
   "pygments_lexer": "ipython3",
   "version": "3.9.11"
  },
  "orig_nbformat": 4
 },
 "nbformat": 4,
 "nbformat_minor": 2
}
