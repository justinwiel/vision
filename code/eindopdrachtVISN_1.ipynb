{
 "cells": [
  {
   "cell_type": "markdown",
   "metadata": {},
   "source": [
    "<center><bold>Eindopdracht voor computer vision, binaire classificatie van hersenscans</bold></center>"
   ]
  },
  {
   "cell_type": "code",
   "execution_count": 4,
   "metadata": {},
   "outputs": [],
   "source": [
    "# Dit is het CNN net als het eerste paper, zie literatuurlijst, element 1\n",
    "from keras.models import Sequential,load_model\n",
    "from keras.layers import Conv2D, MaxPooling2D, Dense, Flatten, Reshape\n",
    "import tensorflow_datasets as tfds\n",
    "from tensorflow.keras.utils import to_categorical\n",
    "import tensorflow as tf\n",
    "import matplotlib.pyplot as plt\n",
    "import numpy as np\n",
    "from random import randint,seed\n",
    "from time import time_ns"
   ]
  },
  {
   "cell_type": "code",
   "execution_count": 5,
   "metadata": {},
   "outputs": [
    {
     "name": "stdout",
     "output_type": "stream",
     "text": [
      "Found 2800 files belonging to 2 classes.\n",
      "Using 2240 files for training.\n",
      "Found 2800 files belonging to 2 classes.\n",
      "Using 560 files for validation.\n"
     ]
    }
   ],
   "source": [
    "\n",
    "##even de datasets ophalen\n",
    "data_dir = \"..\\\\data\"\n",
    "train_ds = tf.keras.utils.image_dataset_from_directory(\n",
    "  data_dir,\n",
    "  validation_split=0.2,\n",
    "  subset=\"training\",\n",
    "  seed=486235864,\n",
    "  image_size=(28, 32),\n",
    "  batch_size=16)\n",
    "images_train = []\n",
    "labels_train = []\n",
    "\n",
    "\n",
    "vals_ds = tf.keras.utils.image_dataset_from_directory(\n",
    "  data_dir,\n",
    "  validation_split=0.2,\n",
    "  subset=\"validation\",\n",
    "  seed=486235864,\n",
    "  image_size=(28, 32),\n",
    "  batch_size=1)\n",
    "\n",
    "\n"
   ]
  },
  {
   "cell_type": "code",
   "execution_count": 6,
   "metadata": {},
   "outputs": [],
   "source": [
    "#in het paper wordt een niet-sequentieel netwerk gebruikt,\n",
    "# hier is gekozen om wel een sequentieel netwerk te gebruiken\n",
    "model = tf.keras.Sequential([\n",
    "  tf.keras.layers.Rescaling(1./255),\n",
    "  tf.keras.layers.Conv2D(32, 3, activation='relu'),\n",
    "  tf.keras.layers.MaxPooling2D(2),\n",
    "  tf.keras.layers.Conv2D(32, 3, activation='relu'),\n",
    "  tf.keras.layers.Conv2D(32, 3, activation='relu'),\n",
    "  tf.keras.layers.Flatten(),\n",
    "  tf.keras.layers.Dense(128, activation='relu'),\n",
    "  tf.keras.layers.Dense(64, activation='softmax'),\n",
    "  tf.keras.layers.Dense(2)\n",
    "])\n",
    "# wel in overeenstemming met het paper is het gebruik van de adam optimizer en de CategoricalCrossentropy loss functie\n",
    "model.compile(\n",
    "  optimizer='adam',\n",
    "  loss=tf.losses.SparseCategoricalCrossentropy(from_logits=True),\n",
    "  metrics=['accuracy'])"
   ]
  },
  {
   "cell_type": "code",
   "execution_count": 7,
   "metadata": {},
   "outputs": [
    {
     "name": "stdout",
     "output_type": "stream",
     "text": [
      "Epoch 1/20\n",
      "140/140 [==============================] - 5s 26ms/step - loss: 0.6243 - accuracy: 0.6862 - val_loss: 0.5708 - val_accuracy: 0.7464\n",
      "Epoch 2/20\n",
      "140/140 [==============================] - 4s 25ms/step - loss: 0.5579 - accuracy: 0.7576 - val_loss: 0.5205 - val_accuracy: 0.7946\n",
      "Epoch 3/20\n",
      "140/140 [==============================] - 5s 32ms/step - loss: 0.4933 - accuracy: 0.8152 - val_loss: 0.4555 - val_accuracy: 0.8429\n",
      "Epoch 4/20\n",
      "140/140 [==============================] - 4s 31ms/step - loss: 0.4311 - accuracy: 0.8531 - val_loss: 0.3926 - val_accuracy: 0.8786\n",
      "Epoch 5/20\n",
      "140/140 [==============================] - 5s 34ms/step - loss: 0.3585 - accuracy: 0.8996 - val_loss: 0.3657 - val_accuracy: 0.8839\n",
      "Epoch 6/20\n",
      "140/140 [==============================] - 6s 41ms/step - loss: 0.3100 - accuracy: 0.9183 - val_loss: 0.3283 - val_accuracy: 0.8911\n",
      "Epoch 7/20\n",
      "140/140 [==============================] - 5s 35ms/step - loss: 0.2674 - accuracy: 0.9339 - val_loss: 0.2627 - val_accuracy: 0.9321\n",
      "Epoch 8/20\n",
      "140/140 [==============================] - 6s 39ms/step - loss: 0.2207 - accuracy: 0.9531 - val_loss: 0.2201 - val_accuracy: 0.9518\n",
      "Epoch 9/20\n",
      "140/140 [==============================] - 5s 34ms/step - loss: 0.1914 - accuracy: 0.9594 - val_loss: 0.2194 - val_accuracy: 0.9446\n",
      "Epoch 10/20\n",
      "140/140 [==============================] - 5s 35ms/step - loss: 0.1677 - accuracy: 0.9629 - val_loss: 0.1978 - val_accuracy: 0.9464\n",
      "Epoch 11/20\n",
      "140/140 [==============================] - 4s 30ms/step - loss: 0.1374 - accuracy: 0.9759 - val_loss: 0.1400 - val_accuracy: 0.9750\n",
      "Epoch 12/20\n",
      "140/140 [==============================] - 5s 33ms/step - loss: 0.1153 - accuracy: 0.9830 - val_loss: 0.1259 - val_accuracy: 0.9768\n",
      "Epoch 13/20\n",
      "140/140 [==============================] - 4s 31ms/step - loss: 0.1019 - accuracy: 0.9862 - val_loss: 0.1108 - val_accuracy: 0.9804\n",
      "Epoch 14/20\n",
      "140/140 [==============================] - 5s 34ms/step - loss: 0.0859 - accuracy: 0.9902 - val_loss: 0.1017 - val_accuracy: 0.9839\n",
      "Epoch 15/20\n",
      "140/140 [==============================] - 5s 33ms/step - loss: 0.0923 - accuracy: 0.9839 - val_loss: 0.1608 - val_accuracy: 0.9500\n",
      "Epoch 16/20\n",
      "140/140 [==============================] - 5s 33ms/step - loss: 0.1207 - accuracy: 0.9710 - val_loss: 0.1531 - val_accuracy: 0.9536\n",
      "Epoch 17/20\n",
      "140/140 [==============================] - 5s 32ms/step - loss: 0.0769 - accuracy: 0.9879 - val_loss: 0.1447 - val_accuracy: 0.9554\n",
      "Epoch 18/20\n",
      "140/140 [==============================] - 4s 30ms/step - loss: 0.0816 - accuracy: 0.9839 - val_loss: 0.1531 - val_accuracy: 0.9500\n",
      "Epoch 19/20\n",
      "140/140 [==============================] - 4s 30ms/step - loss: 0.0633 - accuracy: 0.9893 - val_loss: 0.1284 - val_accuracy: 0.9661\n",
      "Epoch 20/20\n",
      "140/140 [==============================] - 4s 31ms/step - loss: 0.0565 - accuracy: 0.9915 - val_loss: 0.1018 - val_accuracy: 0.9768\n"
     ]
    }
   ],
   "source": [
    "#train het model met 20 epochs\n",
    "hist = model.fit(train_ds, epochs=20,validation_data= vals_ds)"
   ]
  },
  {
   "cell_type": "code",
   "execution_count": 8,
   "metadata": {},
   "outputs": [
    {
     "data": {
      "image/png": "[encoded data removed]",
      "text/plain": [
       "<Figure size 432x288 with 1 Axes>"
      ]
     },
     "metadata": {
      "needs_background": "light"
     },
     "output_type": "display_data"
    },
    {
     "data": {
      "image/png": "[encoded data removed]",
      "text/plain": [
       "<Figure size 432x288 with 1 Axes>"
      ]
     },
     "metadata": {
      "needs_background": "light"
     },
     "output_type": "display_data"
    },
    {
     "name": "stdout",
     "output_type": "stream",
     "text": [
      "560/560 - 1s - loss: 0.1018 - accuracy: 0.9768 - 1s/epoch - 2ms/step\n"
     ]
    }
   ],
   "source": [
    "# maak diagrammen van het fitten van het netwerk\n",
    "plt.plot(hist.history[\"accuracy\"],color = \"blue\")\n",
    "plt.plot(hist.history[\"val_accuracy\"],color = \"red\")\n",
    "plt.ylabel(\"accuracy\")\n",
    "plt.xlabel(\"epochs\")\n",
    "plt.legend([\"acc\", \"val_acc\"])\n",
    "plt.show()\n",
    "plt.plot(hist.history[\"loss\"],color = \"blue\")\n",
    "plt.plot(hist.history[\"val_loss\"],color = \"red\")\n",
    "plt.ylabel(\"loss\")\n",
    "plt.xlabel(\"epochs\")\n",
    "plt.legend([\"loss\", \"val_loss\"])\n",
    "plt.show()\n",
    "test_loss, test_acc = model.evaluate(vals_ds, verbose=2)"
   ]
  },
  {
   "cell_type": "code",
   "execution_count": 9,
   "metadata": {},
   "outputs": [
    {
     "name": "stdout",
     "output_type": "stream",
     "text": [
      "0.9767857193946838\n"
     ]
    }
   ],
   "source": [
    "print(test_acc) #print de accuracy op de validatie set"
   ]
  },
  {
   "cell_type": "code",
   "execution_count": 10,
   "metadata": {},
   "outputs": [
    {
     "name": "stdout",
     "output_type": "stream",
     "text": [
      "Found 200 files belonging to 2 classes.\n",
      "200/200 - 1s - loss: 0.2538 - accuracy: 0.9300 - 680ms/epoch - 3ms/step\n"
     ]
    }
   ],
   "source": [
    "test_dir = \"..\\\\test\" #haal de nog ongeziene test set op\n",
    "test_ds = tf.keras.utils.image_dataset_from_directory(\n",
    "  test_dir,\n",
    "  seed=486235864,\n",
    "  image_size=(28, 32),\n",
    "  batch_size=1)\n",
    "\n",
    "test_loss, test_acc = model.evaluate(test_ds, verbose=2)\n",
    "\n"
   ]
  },
  {
   "cell_type": "code",
   "execution_count": 11,
   "metadata": {},
   "outputs": [
    {
     "name": "stdout",
     "output_type": "stream",
     "text": [
      "0.9300000071525574\n"
     ]
    }
   ],
   "source": [
    "print(test_acc)"
   ]
  },
  {
   "cell_type": "code",
   "execution_count": 15,
   "metadata": {},
   "outputs": [],
   "source": [
    "#snelle functie om eindresultaat te tonen\n",
    "def show_res(img,  res):\n",
    "    fig, ax = plt.subplots(nrows=1, ncols=1, figsize=(img.shape[0]/4, img.shape[1]/4))\n",
    "    ax.imshow(img, cmap='gray')\n",
    "    if(res == 1):\n",
    "        ax.set_title('tumor', fontsize=100)\n",
    "    elif(res == 0):\n",
    "        ax.set_title('healty', fontsize=100)"
   ]
  },
  {
   "cell_type": "code",
   "execution_count": 17,
   "metadata": {},
   "outputs": [
    {
     "data": {
      "image/png": "[encoded data removed]",
      "text/plain": [
       "<Figure size 504x576 with 1 Axes>"
      ]
     },
     "metadata": {
      "needs_background": "light"
     },
     "output_type": "display_data"
    }
   ],
   "source": [
    "from skimage.color import rgb2gray\n",
    "spull = test_ds.take(1)\n",
    "images_test = []\n",
    "labels_test = []\n",
    "#splits de dataset in labels en images\n",
    "for images, labels in test_ds:\n",
    "    images_test.append(images)\n",
    "    labels_test.append(labels)\n",
    "#plt.imshow(np.asanyarray(spull))\n",
    "seed(time_ns())#random seed met systeem tijd in nano seconden\n",
    "test_IM = randint(0,len(images_test))\n",
    "predictions = model.predict(images_test[test_IM])\n",
    "img = rgb2gray(images_test[test_IM][0]) #maax grijs om te kunnen tonen(de shower verwacht altijd grayscale)\n",
    "res = np.argmax(predictions) #zoek de hoogst gewaardeerde klasse\n",
    "show_res(img, res) #bereid het resultaat voor\n",
    "plt.show() # en toon dit\n",
    "\n",
    "\n",
    "\n",
    "\n"
   ]
  },
  {
   "cell_type": "code",
   "execution_count": 18,
   "metadata": {},
   "outputs": [],
   "source": [
    "model.save(\"model.h5\")"
   ]
  }
 ],
 "metadata": {
  "interpreter": {
   "hash": "4bfbb51c095ea4207accf60ac1e0b966bbb6c3d9216577204ab2f0cbe13a26af"
  },
  "kernelspec": {
   "display_name": "Python 3.9.10 64-bit (windows store)",
   "language": "python",
   "name": "python3"
  },
  "language_info": {
   "codemirror_mode": {
    "name": "ipython",
    "version": 3
   },
   "file_extension": ".py",
   "mimetype": "text/x-python",
   "name": "python",
   "nbconvert_exporter": "python",
   "pygments_lexer": "ipython3",
   "version": "3.9.11"
  },
  "orig_nbformat": 4
 },
 "nbformat": 4,
 "nbformat_minor": 2
}
