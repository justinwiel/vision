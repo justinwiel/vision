{
 "cells": [
  {
   "cell_type": "markdown",
   "metadata": {},
   "source": [
    "<center><bold>Eindopdracht voor computer vision, binaire classificatie van hersenscans</bold></center>"
   ]
  },
  {
   "cell_type": "code",
   "execution_count": 26,
   "metadata": {},
   "outputs": [],
   "source": [
    "from sklearn import svm\n",
    "from skimage.color import rgb2gray\n",
    "from skimage.transform import resize\n",
    "from os import listdir\n",
    "from os.path import isfile, join\n",
    "from random import shuffle, seed,randrange\n",
    "import matplotlib.pyplot as plt\n",
    "\n",
    "yespath = '..\\\\data\\\\yes'\n",
    "yesfiles = [f for f in listdir(yespath) if isfile(join(yespath, f))]\n",
    "\n",
    "x = []\n",
    "y = []\n",
    "\n",
    "for file in yesfiles:\n",
    "    img = plt.imread(f\"..\\\\data\\\\yes\\\\{file}\")\n",
    "    img = resize(img, (28, 32,3),\n",
    "                 anti_aliasing=True)\n",
    "    x.append(rgb2gray(img).flatten())\n",
    "    y.append('yes')\n",
    "\n",
    "\n",
    "nopath = '..\\\\data\\\\no'\n",
    "nofiles = [f for f in listdir(nopath) if isfile(join(nopath, f))]\n",
    "\n",
    "for file in nofiles:\n",
    "    img = plt.imread(f\"..\\\\data\\\\no\\\\{file}\")\n",
    "    img = resize(img, (28, 32,3),\n",
    "                 anti_aliasing=True)\n",
    "    x.append(rgb2gray(img).flatten())\n",
    "    y.append('no')\n",
    "\n",
    "\n",
    "z = list(zip(x, y))  # zip so it stays together during shuffle\n",
    "seed(7577947579)\n",
    "shuffle(z)\n",
    "\n",
    "x, y = zip(*z)\n"
   ]
  },
  {
   "cell_type": "code",
   "execution_count": 27,
   "metadata": {},
   "outputs": [
    {
     "name": "stdout",
     "output_type": "stream",
     "text": [
      "0.875\n"
     ]
    }
   ],
   "source": [
    "from sklearn import metrics\n",
    "Svm = svm.SVC()\n",
    "Svm.fit(x,y)\n",
    "\n",
    "yespath = '..\\\\test\\\\yes'\n",
    "yesfiles = [f for f in listdir(yespath) if isfile(join(yespath, f))]\n",
    "\n",
    "x_test = []\n",
    "y_test = []\n",
    "x_image = []\n",
    "for file in yesfiles:\n",
    "    img = plt.imread(f\"..\\\\test\\\\yes\\\\{file}\")\n",
    "    img = resize(img, (28, 32,3),\n",
    "                 anti_aliasing=True)\n",
    "    x_test.append(rgb2gray(img).flatten())\n",
    "    y_test.append('yes')\n",
    "    x_image.append(img)\n",
    "\n",
    "\n",
    "nopath = '..\\\\test\\\\no'\n",
    "nofiles = [f for f in listdir(nopath) if isfile(join(nopath, f))]\n",
    "\n",
    "for file in nofiles:\n",
    "    img = plt.imread(f\"..\\\\test\\\\no\\\\{file}\")\n",
    "    img = resize(img, (28, 32,3),\n",
    "                 anti_aliasing=True)\n",
    "    x_test.append(rgb2gray(img).flatten())\n",
    "    y_test.append('no')\n",
    "    x_image.append(img)\n",
    "\n",
    "\n",
    "prediction = Svm.predict(x_test)\n",
    "evaluation = metrics.accuracy_score(y_test,prediction)\n",
    "print(evaluation)\n",
    "\n",
    "\n",
    "\n",
    "\n"
   ]
  },
  {
   "cell_type": "code",
   "execution_count": 28,
   "metadata": {},
   "outputs": [],
   "source": [
    "def show_res(img,  res):\n",
    "    fig, ax = plt.subplots(nrows=1, ncols=1, figsize=(4, 3))\n",
    "    ax.imshow(img, cmap='gray')\n",
    "    if(res == 'yes'):\n",
    "        ax.set_title('tumor', fontsize=10)\n",
    "    elif(res == 'no'):\n",
    "        ax.set_title('healty', fontsize=10)"
   ]
  },
  {
   "cell_type": "code",
   "execution_count": 66,
   "metadata": {},
   "outputs": [
    {
     "data": {
      "image/png": "[encoded data removed]",
      "text/plain": [
       "<Figure size 288x216 with 1 Axes>"
      ]
     },
     "metadata": {
      "needs_background": "light"
     },
     "output_type": "display_data"
    }
   ],
   "source": [
    "select = randrange(0,200)\n",
    "show_res(x_image[select],prediction[select])"
   ]
  }
 ],
 "metadata": {
  "interpreter": {
   "hash": "4bfbb51c095ea4207accf60ac1e0b966bbb6c3d9216577204ab2f0cbe13a26af"
  },
  "kernelspec": {
   "display_name": "Python 3.9.10 64-bit (windows store)",
   "language": "python",
   "name": "python3"
  },
  "language_info": {
   "codemirror_mode": {
    "name": "ipython",
    "version": 3
   },
   "file_extension": ".py",
   "mimetype": "text/x-python",
   "name": "python",
   "nbconvert_exporter": "python",
   "pygments_lexer": "ipython3",
   "version": "3.9.10"
  },
  "orig_nbformat": 4
 },
 "nbformat": 4,
 "nbformat_minor": 2
}
