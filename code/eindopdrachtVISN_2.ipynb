{
 "cells": [
  {
   "cell_type": "markdown",
   "metadata": {},
   "source": [
    "<center><bold>Eindopdracht voor computer vision, binaire classificatie van hersenscans</bold></center>"
   ]
  },
  {
   "cell_type": "code",
   "execution_count": 2,
   "metadata": {},
   "outputs": [],
   "source": [
    "#in dit tweede deel wordt hetzelfde gedaan maar dan met een SVM, dit is de standaard SVM uit scikit-learn\n",
    "from sklearn import svm\n",
    "from skimage.color import rgb2gray\n",
    "from skimage.transform import resize\n",
    "from os import listdir\n",
    "from os.path import isfile, join\n",
    "from random import shuffle, seed,randrange\n",
    "import matplotlib.pyplot as plt\n",
    "\n",
    "#haal alle bestands namen die een foto met tumor bevatten op\n",
    "yespath = '..\\\\data\\\\yes'\n",
    "yesfiles = [f for f in listdir(yespath) if isfile(join(yespath, f))]\n",
    "\n",
    "x = []\n",
    "y = []\n",
    "\n",
    "#lees alle images in\n",
    "for file in yesfiles:\n",
    "    img = plt.imread(f\"..\\\\data\\\\yes\\\\{file}\")\n",
    "    img = resize(img, (28, 32,3),\n",
    "                 anti_aliasing=True)\n",
    "    #preprocessing, zet in grijsschaal en maak 1D\n",
    "    x.append(rgb2gray(img).flatten())\n",
    "    y.append('yes')\n",
    "\n",
    "#haal alle bestands namen die een foto zonder tumor bevatten op\n",
    "nopath = '..\\\\data\\\\no'\n",
    "nofiles = [f for f in listdir(nopath) if isfile(join(nopath, f))]\n",
    "\n",
    "for file in nofiles:\n",
    "    img = plt.imread(f\"..\\\\data\\\\no\\\\{file}\")\n",
    "    img = resize(img, (28, 32,3),\n",
    "                 anti_aliasing=True)\n",
    "    #preprocessing, zet in grijsschaal en maak 1D\n",
    "    x.append(rgb2gray(img).flatten())\n",
    "    y.append('no')\n",
    "\n",
    "\n",
    "z = list(zip(x, y))  # zip so it stays together during shuffle\n",
    "seed(7577947579)\n",
    "shuffle(z)\n",
    "\n",
    "x, y = zip(*z)\n"
   ]
  },
  {
   "cell_type": "code",
   "execution_count": 3,
   "metadata": {},
   "outputs": [
    {
     "name": "stdout",
     "output_type": "stream",
     "text": [
      "0.955\n"
     ]
    }
   ],
   "source": [
    "from sklearn import metrics\n",
    "Svm = svm.SVC(gamma= 1 ,C=100)\n",
    "Svm.fit(x,y)\n",
    "\n",
    "yespath = '..\\\\test\\\\yes'\n",
    "yesfiles = [f for f in listdir(yespath) if isfile(join(yespath, f))]\n",
    "\n",
    "x_test = []\n",
    "y_test = []\n",
    "x_image = []\n",
    "for file in yesfiles:\n",
    "    img = plt.imread(f\"..\\\\test\\\\yes\\\\{file}\")\n",
    "    img = resize(img, (28, 32,3),\n",
    "                 anti_aliasing=True)\n",
    "    #preprocessing, zet in grijsschaal en maak 1D\n",
    "    x_test.append(rgb2gray(img).flatten())\n",
    "    y_test.append('yes')\n",
    "    x_image.append(img) #aparte image, puur om straks te kunnen laten zien.\n",
    "\n",
    "\n",
    "nopath = '..\\\\test\\\\no'\n",
    "nofiles = [f for f in listdir(nopath) if isfile(join(nopath, f))]\n",
    "\n",
    "for file in nofiles:\n",
    "    img = plt.imread(f\"..\\\\test\\\\no\\\\{file}\")\n",
    "    img = resize(img, (28, 32,3),\n",
    "                 anti_aliasing=True)\n",
    "    #preprocessing, zet in grijsschaal en maak 1D\n",
    "    x_test.append(rgb2gray(img).flatten())\n",
    "    y_test.append('no')\n",
    "    x_image.append(img) #aparte image, puur om straks te kunnen laten zien.\n",
    "\n",
    "\n",
    "prediction = Svm.predict(x_test) #ff kijken of er juiste uit komt \n",
    "evaluation = metrics.accuracy_score(y_test,prediction) #evalueer naast de labels\n",
    "print(evaluation)\n",
    "\n",
    "\n",
    "\n",
    "\n"
   ]
  },
  {
   "cell_type": "code",
   "execution_count": 4,
   "metadata": {},
   "outputs": [],
   "source": [
    "def show_res(img,  res):\n",
    "    fig, ax = plt.subplots(nrows=1, ncols=1, figsize=(4, 3))\n",
    "    ax.imshow(img, cmap='gray')\n",
    "    if(res == 'yes'):\n",
    "        ax.set_title('tumor', fontsize=10)\n",
    "    elif(res == 'no'):\n",
    "        ax.set_title('healty', fontsize=10)"
   ]
  },
  {
   "cell_type": "code",
   "execution_count": 5,
   "metadata": {},
   "outputs": [
    {
     "data": {
      "image/png": "[encoded data removed]",
      "text/plain": [
       "<Figure size 288x216 with 1 Axes>"
      ]
     },
     "metadata": {
      "needs_background": "light"
     },
     "output_type": "display_data"
    }
   ],
   "source": [
    "#toon een random image uit voorspelde set\n",
    "select = randrange(0,200)\n",
    "show_res(x_image[select],prediction[select])"
   ]
  }
 ],
 "metadata": {
  "interpreter": {
   "hash": "4bfbb51c095ea4207accf60ac1e0b966bbb6c3d9216577204ab2f0cbe13a26af"
  },
  "kernelspec": {
   "display_name": "Python 3.9.10 64-bit (windows store)",
   "language": "python",
   "name": "python3"
  },
  "language_info": {
   "codemirror_mode": {
    "name": "ipython",
    "version": 3
   },
   "file_extension": ".py",
   "mimetype": "text/x-python",
   "name": "python",
   "nbconvert_exporter": "python",
   "pygments_lexer": "ipython3",
   "version": "3.9.11"
  },
  "orig_nbformat": 4
 },
 "nbformat": 4,
 "nbformat_minor": 2
}
