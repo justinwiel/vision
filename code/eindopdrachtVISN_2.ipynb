{
 "cells": [
  {
   "cell_type": "markdown",
   "metadata": {},
   "source": [
    "<center><bold>Eindopdracht voor computer vision, binaire classificatie van hersenscans</bold></center>"
   ]
  },
  {
   "cell_type": "code",
   "execution_count": 239,
   "metadata": {},
   "outputs": [],
   "source": [
    "from sklearn import svm\n",
    "from skimage.color import rgb2gray\n",
    "from skimage.transform import resize\n",
    "from os import listdir\n",
    "from os.path import isfile, join\n",
    "from random import shuffle, seed\n",
    "import matplotlib.pyplot as plt\n",
    "\n",
    "yespath = '..\\\\data\\\\yes'\n",
    "yesfiles = [f for f in listdir(yespath) if isfile(join(yespath, f))]\n",
    "\n",
    "x = []\n",
    "y = []\n",
    "\n",
    "for file in yesfiles:\n",
    "    img = plt.imread(f\"..\\\\data\\\\yes\\\\{file}\")\n",
    "    img = resize(img, (28, 32,3),\n",
    "                 anti_aliasing=True)\n",
    "    x.append(rgb2gray(img).flatten())\n",
    "    y.append('yes')\n",
    "\n",
    "\n",
    "nopath = '..\\\\data\\\\no'\n",
    "nofiles = [f for f in listdir(nopath) if isfile(join(nopath, f))]\n",
    "\n",
    "for file in nofiles:\n",
    "    img = plt.imread(f\"..\\\\data\\\\no\\\\{file}\")\n",
    "    img = resize(img, (28, 32,3),\n",
    "                 anti_aliasing=True)\n",
    "    x.append(rgb2gray(img).flatten())\n",
    "    y.append('no')\n",
    "\n",
    "\n",
    "z = list(zip(x, y))  # zip so it stays together during shuffle\n",
    "seed(7577947579)\n",
    "shuffle(z)\n",
    "\n",
    "x, y = zip(*z)\n"
   ]
  },
  {
   "cell_type": "code",
   "execution_count": 240,
   "metadata": {},
   "outputs": [
    {
     "name": "stdout",
     "output_type": "stream",
     "text": [
      "0.875\n"
     ]
    }
   ],
   "source": [
    "from sklearn import metrics\n",
    "Svm = svm.SVC()\n",
    "Svm.fit(x,y)\n",
    "\n",
    "yespath = '..\\\\test\\\\yes'\n",
    "yesfiles = [f for f in listdir(yespath) if isfile(join(yespath, f))]\n",
    "\n",
    "x_test = []\n",
    "y_test = []\n",
    "\n",
    "for file in yesfiles:\n",
    "    img = plt.imread(f\"..\\\\test\\\\yes\\\\{file}\")\n",
    "    img = resize(img, (28, 32,3),\n",
    "                 anti_aliasing=True)\n",
    "    x_test.append(rgb2gray(img).flatten())\n",
    "    y_test.append('yes')\n",
    "\n",
    "\n",
    "nopath = '..\\\\test\\\\no'\n",
    "nofiles = [f for f in listdir(nopath) if isfile(join(nopath, f))]\n",
    "\n",
    "for file in nofiles:\n",
    "    img = plt.imread(f\"..\\\\test\\\\no\\\\{file}\")\n",
    "    img = resize(img, (28, 32,3),\n",
    "                 anti_aliasing=True)\n",
    "    x_test.append(rgb2gray(img).flatten())\n",
    "    y_test.append('no')\n",
    "\n",
    "\n",
    "z_test = list(zip(x_test, y_test))  # zip so it stays together during shuffle\n",
    "seed(398475937597439)\n",
    "shuffle(z_test)\n",
    "x_test , y_test = zip(*z_test)\n",
    "\n",
    "evaluation = metrics.accuracy_score(y_test,Svm.predict(x_test))\n",
    "print(evaluation)\n",
    "\n"
   ]
  }
 ],
 "metadata": {
  "interpreter": {
   "hash": "4bfbb51c095ea4207accf60ac1e0b966bbb6c3d9216577204ab2f0cbe13a26af"
  },
  "kernelspec": {
   "display_name": "Python 3.9.10 64-bit (windows store)",
   "language": "python",
   "name": "python3"
  },
  "language_info": {
   "codemirror_mode": {
    "name": "ipython",
    "version": 3
   },
   "file_extension": ".py",
   "mimetype": "text/x-python",
   "name": "python",
   "nbconvert_exporter": "python",
   "pygments_lexer": "ipython3",
   "version": "3.9.10"
  },
  "orig_nbformat": 4
 },
 "nbformat": 4,
 "nbformat_minor": 2
}
